{
 "cells": [
  {
   "cell_type": "code",
   "execution_count": 2,
   "metadata": {
    "collapsed": true,
    "pycharm": {
     "name": "#%%\n"
    }
   },
   "outputs": [],
   "source": [
    "import pandas as pd\n",
    "import numpy as np\n",
    "from collections import defaultdict\n",
    "import nltk\n",
    "from bs4 import BeautifulSoup"
   ]
  },
  {
   "cell_type": "code",
   "execution_count": 3,
   "outputs": [],
   "source": [
    "db = pd.read_csv('/Users/maurelco/Developer/Python/Projet 4/QueryResults-3.csv')"
   ],
   "metadata": {
    "collapsed": false,
    "pycharm": {
     "name": "#%%\n"
    }
   }
  },
  {
   "cell_type": "code",
   "execution_count": 4,
   "outputs": [
    {
     "data": {
      "text/plain": "             Id                                              Title  \\\n0       4019784  Giving a unix process exclusive RW access to a...   \n1       4219547           automatic repaint when minimizing window   \n2       4529530  Is man-in-the-middle attack a security threat ...   \n3       4529565      Managing data access in a simple WinForms app   \n4       4529586                            Render basic HTML view?   \n...         ...                                                ...   \n49995  68396411  Bypass Vertica ERROR 3326: Execution time exce...   \n49996  68396463  A conflicting conditional operation is current...   \n49997  68396513      Problem in lr_find() in Pytorch fastai course   \n49998  68396523     JSONPatch escape slash '/' from JSONPatch+JSON   \n49999  52943256  org.gradle.internal.resolve.ArtifactNotFoundEx...   \n\n                                                    Body  \\\n0      <p>Is there a way to sandbox a linux process i...   \n1      <p>I have a JFrame, with two panels, in one pa...   \n2      <p>I am no expert in network security, so pard...   \n3      <p>I have a simple WinForms data entry app tha...   \n4      <p>I have a basic Node.js app that I am trying...   \n...                                                  ...   \n49995  <p>Using the <code>SSIS</code> tool and <code>...   \n49996  <p>Using s3fs, I am uploading a file to the al...   \n49997  <p>While following the Jupyter notebooks for t...   \n49998  <p>I've below JSON and I wanted to update few ...   \n49999  <p>I am using <code>15.0.1</code> version of F...   \n\n                                                    Tags  Score  ViewCount  \\\n0             <linux><ubuntu><process><sandbox><selinux>      2        406   \n1                <java><graphics><jframe><jpanel><paint>      1       4225   \n2      <security><ssh><ssh-keys><openssh><man-in-the-...     11      10589   \n3       <c#><winforms><sqlite><datatable><sqlconnection>      0       1670   \n4          <javascript><html><node.js><mongodb><express>    316     516830   \n...                                                  ...    ...        ...   \n49995  <sql-server><ssas><oledb><sql-server-data-tool...      0        734   \n49996  <python><amazon-web-services><amazon-s3><boto3...      0        670   \n49997  <python><machine-learning><deep-learning><pyto...      4       1260   \n49998         <java><json><rest><json-patch><http-patch>      1        509   \n49999  <android><android-studio><android-gradle-plugi...      5       7391   \n\n       FavoriteCount  AnswerCount  \n0                0.0            4  \n1                NaN            3  \n2                0.0            2  \n3                NaN            1  \n4                0.0           31  \n...              ...          ...  \n49995            NaN            1  \n49996            NaN            2  \n49997            NaN            1  \n49998            0.0            1  \n49999            0.0            4  \n\n[50000 rows x 8 columns]",
      "text/html": "<div>\n<style scoped>\n    .dataframe tbody tr th:only-of-type {\n        vertical-align: middle;\n    }\n\n    .dataframe tbody tr th {\n        vertical-align: top;\n    }\n\n    .dataframe thead th {\n        text-align: right;\n    }\n</style>\n<table border=\"1\" class=\"dataframe\">\n  <thead>\n    <tr style=\"text-align: right;\">\n      <th></th>\n      <th>Id</th>\n      <th>Title</th>\n      <th>Body</th>\n      <th>Tags</th>\n      <th>Score</th>\n      <th>ViewCount</th>\n      <th>FavoriteCount</th>\n      <th>AnswerCount</th>\n    </tr>\n  </thead>\n  <tbody>\n    <tr>\n      <th>0</th>\n      <td>4019784</td>\n      <td>Giving a unix process exclusive RW access to a...</td>\n      <td>&lt;p&gt;Is there a way to sandbox a linux process i...</td>\n      <td>&lt;linux&gt;&lt;ubuntu&gt;&lt;process&gt;&lt;sandbox&gt;&lt;selinux&gt;</td>\n      <td>2</td>\n      <td>406</td>\n      <td>0.0</td>\n      <td>4</td>\n    </tr>\n    <tr>\n      <th>1</th>\n      <td>4219547</td>\n      <td>automatic repaint when minimizing window</td>\n      <td>&lt;p&gt;I have a JFrame, with two panels, in one pa...</td>\n      <td>&lt;java&gt;&lt;graphics&gt;&lt;jframe&gt;&lt;jpanel&gt;&lt;paint&gt;</td>\n      <td>1</td>\n      <td>4225</td>\n      <td>NaN</td>\n      <td>3</td>\n    </tr>\n    <tr>\n      <th>2</th>\n      <td>4529530</td>\n      <td>Is man-in-the-middle attack a security threat ...</td>\n      <td>&lt;p&gt;I am no expert in network security, so pard...</td>\n      <td>&lt;security&gt;&lt;ssh&gt;&lt;ssh-keys&gt;&lt;openssh&gt;&lt;man-in-the-...</td>\n      <td>11</td>\n      <td>10589</td>\n      <td>0.0</td>\n      <td>2</td>\n    </tr>\n    <tr>\n      <th>3</th>\n      <td>4529565</td>\n      <td>Managing data access in a simple WinForms app</td>\n      <td>&lt;p&gt;I have a simple WinForms data entry app tha...</td>\n      <td>&lt;c#&gt;&lt;winforms&gt;&lt;sqlite&gt;&lt;datatable&gt;&lt;sqlconnection&gt;</td>\n      <td>0</td>\n      <td>1670</td>\n      <td>NaN</td>\n      <td>1</td>\n    </tr>\n    <tr>\n      <th>4</th>\n      <td>4529586</td>\n      <td>Render basic HTML view?</td>\n      <td>&lt;p&gt;I have a basic Node.js app that I am trying...</td>\n      <td>&lt;javascript&gt;&lt;html&gt;&lt;node.js&gt;&lt;mongodb&gt;&lt;express&gt;</td>\n      <td>316</td>\n      <td>516830</td>\n      <td>0.0</td>\n      <td>31</td>\n    </tr>\n    <tr>\n      <th>...</th>\n      <td>...</td>\n      <td>...</td>\n      <td>...</td>\n      <td>...</td>\n      <td>...</td>\n      <td>...</td>\n      <td>...</td>\n      <td>...</td>\n    </tr>\n    <tr>\n      <th>49995</th>\n      <td>68396411</td>\n      <td>Bypass Vertica ERROR 3326: Execution time exce...</td>\n      <td>&lt;p&gt;Using the &lt;code&gt;SSIS&lt;/code&gt; tool and &lt;code&gt;...</td>\n      <td>&lt;sql-server&gt;&lt;ssas&gt;&lt;oledb&gt;&lt;sql-server-data-tool...</td>\n      <td>0</td>\n      <td>734</td>\n      <td>NaN</td>\n      <td>1</td>\n    </tr>\n    <tr>\n      <th>49996</th>\n      <td>68396463</td>\n      <td>A conflicting conditional operation is current...</td>\n      <td>&lt;p&gt;Using s3fs, I am uploading a file to the al...</td>\n      <td>&lt;python&gt;&lt;amazon-web-services&gt;&lt;amazon-s3&gt;&lt;boto3...</td>\n      <td>0</td>\n      <td>670</td>\n      <td>NaN</td>\n      <td>2</td>\n    </tr>\n    <tr>\n      <th>49997</th>\n      <td>68396513</td>\n      <td>Problem in lr_find() in Pytorch fastai course</td>\n      <td>&lt;p&gt;While following the Jupyter notebooks for t...</td>\n      <td>&lt;python&gt;&lt;machine-learning&gt;&lt;deep-learning&gt;&lt;pyto...</td>\n      <td>4</td>\n      <td>1260</td>\n      <td>NaN</td>\n      <td>1</td>\n    </tr>\n    <tr>\n      <th>49998</th>\n      <td>68396523</td>\n      <td>JSONPatch escape slash '/' from JSONPatch+JSON</td>\n      <td>&lt;p&gt;I've below JSON and I wanted to update few ...</td>\n      <td>&lt;java&gt;&lt;json&gt;&lt;rest&gt;&lt;json-patch&gt;&lt;http-patch&gt;</td>\n      <td>1</td>\n      <td>509</td>\n      <td>0.0</td>\n      <td>1</td>\n    </tr>\n    <tr>\n      <th>49999</th>\n      <td>52943256</td>\n      <td>org.gradle.internal.resolve.ArtifactNotFoundEx...</td>\n      <td>&lt;p&gt;I am using &lt;code&gt;15.0.1&lt;/code&gt; version of F...</td>\n      <td>&lt;android&gt;&lt;android-studio&gt;&lt;android-gradle-plugi...</td>\n      <td>5</td>\n      <td>7391</td>\n      <td>0.0</td>\n      <td>4</td>\n    </tr>\n  </tbody>\n</table>\n<p>50000 rows × 8 columns</p>\n</div>"
     },
     "execution_count": 4,
     "metadata": {},
     "output_type": "execute_result"
    }
   ],
   "source": [
    "db"
   ],
   "metadata": {
    "collapsed": false,
    "pycharm": {
     "name": "#%%\n"
    }
   }
  },
  {
   "cell_type": "code",
   "execution_count": 5,
   "outputs": [
    {
     "ename": "ValueError",
     "evalue": "The truth value of a Series is ambiguous. Use a.empty, a.bool(), a.item(), a.any() or a.all().",
     "output_type": "error",
     "traceback": [
      "\u001B[0;31m---------------------------------------------------------------------------\u001B[0m",
      "\u001B[0;31mValueError\u001B[0m                                Traceback (most recent call last)",
      "Input \u001B[0;32mIn [5]\u001B[0m, in \u001B[0;36m<cell line: 1>\u001B[0;34m()\u001B[0m\n\u001B[0;32m----> 1\u001B[0m soup \u001B[38;5;241m=\u001B[39m \u001B[43mBeautifulSoup\u001B[49m\u001B[43m(\u001B[49m\u001B[43mdb\u001B[49m\u001B[43m[\u001B[49m\u001B[38;5;124;43m'\u001B[39;49m\u001B[38;5;124;43mBody\u001B[39;49m\u001B[38;5;124;43m'\u001B[39;49m\u001B[43m]\u001B[49m\u001B[43m,\u001B[49m\u001B[43m \u001B[49m\u001B[38;5;124;43m'\u001B[39;49m\u001B[38;5;124;43mhtml.parser\u001B[39;49m\u001B[38;5;124;43m'\u001B[39;49m\u001B[43m)\u001B[49m\n\u001B[1;32m      2\u001B[0m soup\u001B[38;5;241m.\u001B[39mp\u001B[38;5;241m.\u001B[39mstring\n",
      "File \u001B[0;32m~/opt/anaconda3/lib/python3.9/site-packages/bs4/__init__.py:326\u001B[0m, in \u001B[0;36mBeautifulSoup.__init__\u001B[0;34m(self, markup, features, builder, parse_only, from_encoding, exclude_encodings, element_classes, **kwargs)\u001B[0m\n\u001B[1;32m    324\u001B[0m rejections \u001B[38;5;241m=\u001B[39m []\n\u001B[1;32m    325\u001B[0m success \u001B[38;5;241m=\u001B[39m \u001B[38;5;28;01mFalse\u001B[39;00m\n\u001B[0;32m--> 326\u001B[0m \u001B[38;5;28;01mfor\u001B[39;00m (\u001B[38;5;28mself\u001B[39m\u001B[38;5;241m.\u001B[39mmarkup, \u001B[38;5;28mself\u001B[39m\u001B[38;5;241m.\u001B[39moriginal_encoding, \u001B[38;5;28mself\u001B[39m\u001B[38;5;241m.\u001B[39mdeclared_html_encoding,\n\u001B[1;32m    327\u001B[0m  \u001B[38;5;28mself\u001B[39m\u001B[38;5;241m.\u001B[39mcontains_replacement_characters) \u001B[38;5;129;01min\u001B[39;00m (\n\u001B[1;32m    328\u001B[0m      \u001B[38;5;28mself\u001B[39m\u001B[38;5;241m.\u001B[39mbuilder\u001B[38;5;241m.\u001B[39mprepare_markup(\n\u001B[1;32m    329\u001B[0m          markup, from_encoding, exclude_encodings\u001B[38;5;241m=\u001B[39mexclude_encodings)):\n\u001B[1;32m    330\u001B[0m     \u001B[38;5;28mself\u001B[39m\u001B[38;5;241m.\u001B[39mreset()\n\u001B[1;32m    331\u001B[0m     \u001B[38;5;28mself\u001B[39m\u001B[38;5;241m.\u001B[39mbuilder\u001B[38;5;241m.\u001B[39minitialize_soup(\u001B[38;5;28mself\u001B[39m)\n",
      "File \u001B[0;32m~/opt/anaconda3/lib/python3.9/site-packages/bs4/builder/_htmlparser.py:380\u001B[0m, in \u001B[0;36mHTMLParserTreeBuilder.prepare_markup\u001B[0;34m(self, markup, user_specified_encoding, document_declared_encoding, exclude_encodings)\u001B[0m\n\u001B[1;32m    377\u001B[0m user_encodings \u001B[38;5;241m=\u001B[39m [document_declared_encoding]\n\u001B[1;32m    379\u001B[0m try_encodings \u001B[38;5;241m=\u001B[39m [user_specified_encoding, document_declared_encoding]\n\u001B[0;32m--> 380\u001B[0m dammit \u001B[38;5;241m=\u001B[39m \u001B[43mUnicodeDammit\u001B[49m\u001B[43m(\u001B[49m\n\u001B[1;32m    381\u001B[0m \u001B[43m    \u001B[49m\u001B[43mmarkup\u001B[49m\u001B[43m,\u001B[49m\n\u001B[1;32m    382\u001B[0m \u001B[43m    \u001B[49m\u001B[43mknown_definite_encodings\u001B[49m\u001B[38;5;241;43m=\u001B[39;49m\u001B[43mknown_definite_encodings\u001B[49m\u001B[43m,\u001B[49m\n\u001B[1;32m    383\u001B[0m \u001B[43m    \u001B[49m\u001B[43muser_encodings\u001B[49m\u001B[38;5;241;43m=\u001B[39;49m\u001B[43muser_encodings\u001B[49m\u001B[43m,\u001B[49m\n\u001B[1;32m    384\u001B[0m \u001B[43m    \u001B[49m\u001B[43mis_html\u001B[49m\u001B[38;5;241;43m=\u001B[39;49m\u001B[38;5;28;43;01mTrue\u001B[39;49;00m\u001B[43m,\u001B[49m\n\u001B[1;32m    385\u001B[0m \u001B[43m    \u001B[49m\u001B[43mexclude_encodings\u001B[49m\u001B[38;5;241;43m=\u001B[39;49m\u001B[43mexclude_encodings\u001B[49m\n\u001B[1;32m    386\u001B[0m \u001B[43m\u001B[49m\u001B[43m)\u001B[49m\n\u001B[1;32m    387\u001B[0m \u001B[38;5;28;01myield\u001B[39;00m (dammit\u001B[38;5;241m.\u001B[39mmarkup, dammit\u001B[38;5;241m.\u001B[39moriginal_encoding,\n\u001B[1;32m    388\u001B[0m        dammit\u001B[38;5;241m.\u001B[39mdeclared_html_encoding,\n\u001B[1;32m    389\u001B[0m        dammit\u001B[38;5;241m.\u001B[39mcontains_replacement_characters)\n",
      "File \u001B[0;32m~/opt/anaconda3/lib/python3.9/site-packages/bs4/dammit.py:584\u001B[0m, in \u001B[0;36mUnicodeDammit.__init__\u001B[0;34m(self, markup, known_definite_encodings, smart_quotes_to, is_html, exclude_encodings, user_encodings, override_encodings)\u001B[0m\n\u001B[1;32m    582\u001B[0m \u001B[38;5;28mself\u001B[39m\u001B[38;5;241m.\u001B[39mis_html \u001B[38;5;241m=\u001B[39m is_html\n\u001B[1;32m    583\u001B[0m \u001B[38;5;28mself\u001B[39m\u001B[38;5;241m.\u001B[39mlog \u001B[38;5;241m=\u001B[39m logging\u001B[38;5;241m.\u001B[39mgetLogger(\u001B[38;5;18m__name__\u001B[39m)\n\u001B[0;32m--> 584\u001B[0m \u001B[38;5;28mself\u001B[39m\u001B[38;5;241m.\u001B[39mdetector \u001B[38;5;241m=\u001B[39m \u001B[43mEncodingDetector\u001B[49m\u001B[43m(\u001B[49m\n\u001B[1;32m    585\u001B[0m \u001B[43m    \u001B[49m\u001B[43mmarkup\u001B[49m\u001B[43m,\u001B[49m\u001B[43m \u001B[49m\u001B[43mknown_definite_encodings\u001B[49m\u001B[43m,\u001B[49m\u001B[43m \u001B[49m\u001B[43mis_html\u001B[49m\u001B[43m,\u001B[49m\u001B[43m \u001B[49m\u001B[43mexclude_encodings\u001B[49m\u001B[43m,\u001B[49m\n\u001B[1;32m    586\u001B[0m \u001B[43m    \u001B[49m\u001B[43muser_encodings\u001B[49m\u001B[43m,\u001B[49m\u001B[43m \u001B[49m\u001B[43moverride_encodings\u001B[49m\n\u001B[1;32m    587\u001B[0m \u001B[43m\u001B[49m\u001B[43m)\u001B[49m\n\u001B[1;32m    589\u001B[0m \u001B[38;5;66;03m# Short-circuit if the data is in Unicode to begin with.\u001B[39;00m\n\u001B[1;32m    590\u001B[0m \u001B[38;5;28;01mif\u001B[39;00m \u001B[38;5;28misinstance\u001B[39m(markup, \u001B[38;5;28mstr\u001B[39m) \u001B[38;5;129;01mor\u001B[39;00m markup \u001B[38;5;241m==\u001B[39m \u001B[38;5;124m'\u001B[39m\u001B[38;5;124m'\u001B[39m:\n",
      "File \u001B[0;32m~/opt/anaconda3/lib/python3.9/site-packages/bs4/dammit.py:389\u001B[0m, in \u001B[0;36mEncodingDetector.__init__\u001B[0;34m(self, markup, known_definite_encodings, is_html, exclude_encodings, user_encodings, override_encodings)\u001B[0m\n\u001B[1;32m    386\u001B[0m \u001B[38;5;28mself\u001B[39m\u001B[38;5;241m.\u001B[39mdeclared_encoding \u001B[38;5;241m=\u001B[39m \u001B[38;5;28;01mNone\u001B[39;00m\n\u001B[1;32m    388\u001B[0m \u001B[38;5;66;03m# First order of business: strip a byte-order mark.\u001B[39;00m\n\u001B[0;32m--> 389\u001B[0m \u001B[38;5;28mself\u001B[39m\u001B[38;5;241m.\u001B[39mmarkup, \u001B[38;5;28mself\u001B[39m\u001B[38;5;241m.\u001B[39msniffed_encoding \u001B[38;5;241m=\u001B[39m \u001B[38;5;28;43mself\u001B[39;49m\u001B[38;5;241;43m.\u001B[39;49m\u001B[43mstrip_byte_order_mark\u001B[49m\u001B[43m(\u001B[49m\u001B[43mmarkup\u001B[49m\u001B[43m)\u001B[49m\n",
      "File \u001B[0;32m~/opt/anaconda3/lib/python3.9/site-packages/bs4/dammit.py:462\u001B[0m, in \u001B[0;36mEncodingDetector.strip_byte_order_mark\u001B[0;34m(cls, data)\u001B[0m\n\u001B[1;32m    459\u001B[0m \u001B[38;5;28;01mif\u001B[39;00m \u001B[38;5;28misinstance\u001B[39m(data, \u001B[38;5;28mstr\u001B[39m):\n\u001B[1;32m    460\u001B[0m     \u001B[38;5;66;03m# Unicode data cannot have a byte-order mark.\u001B[39;00m\n\u001B[1;32m    461\u001B[0m     \u001B[38;5;28;01mreturn\u001B[39;00m data, encoding\n\u001B[0;32m--> 462\u001B[0m \u001B[38;5;28;01mif\u001B[39;00m (\u001B[38;5;28mlen\u001B[39m(data) \u001B[38;5;241m>\u001B[39m\u001B[38;5;241m=\u001B[39m \u001B[38;5;241m4\u001B[39m) \u001B[38;5;129;01mand\u001B[39;00m (data[:\u001B[38;5;241m2\u001B[39m] \u001B[38;5;241m==\u001B[39m \u001B[38;5;124mb\u001B[39m\u001B[38;5;124m'\u001B[39m\u001B[38;5;130;01m\\xfe\u001B[39;00m\u001B[38;5;130;01m\\xff\u001B[39;00m\u001B[38;5;124m'\u001B[39m) \\\n\u001B[1;32m    463\u001B[0m        \u001B[38;5;129;01mand\u001B[39;00m (data[\u001B[38;5;241m2\u001B[39m:\u001B[38;5;241m4\u001B[39m] \u001B[38;5;241m!=\u001B[39m \u001B[38;5;124m'\u001B[39m\u001B[38;5;130;01m\\x00\u001B[39;00m\u001B[38;5;130;01m\\x00\u001B[39;00m\u001B[38;5;124m'\u001B[39m):\n\u001B[1;32m    464\u001B[0m     encoding \u001B[38;5;241m=\u001B[39m \u001B[38;5;124m'\u001B[39m\u001B[38;5;124mutf-16be\u001B[39m\u001B[38;5;124m'\u001B[39m\n\u001B[1;32m    465\u001B[0m     data \u001B[38;5;241m=\u001B[39m data[\u001B[38;5;241m2\u001B[39m:]\n",
      "File \u001B[0;32m~/opt/anaconda3/lib/python3.9/site-packages/pandas/core/generic.py:1527\u001B[0m, in \u001B[0;36mNDFrame.__nonzero__\u001B[0;34m(self)\u001B[0m\n\u001B[1;32m   1525\u001B[0m \u001B[38;5;129m@final\u001B[39m\n\u001B[1;32m   1526\u001B[0m \u001B[38;5;28;01mdef\u001B[39;00m \u001B[38;5;21m__nonzero__\u001B[39m(\u001B[38;5;28mself\u001B[39m):\n\u001B[0;32m-> 1527\u001B[0m     \u001B[38;5;28;01mraise\u001B[39;00m \u001B[38;5;167;01mValueError\u001B[39;00m(\n\u001B[1;32m   1528\u001B[0m         \u001B[38;5;124mf\u001B[39m\u001B[38;5;124m\"\u001B[39m\u001B[38;5;124mThe truth value of a \u001B[39m\u001B[38;5;132;01m{\u001B[39;00m\u001B[38;5;28mtype\u001B[39m(\u001B[38;5;28mself\u001B[39m)\u001B[38;5;241m.\u001B[39m\u001B[38;5;18m__name__\u001B[39m\u001B[38;5;132;01m}\u001B[39;00m\u001B[38;5;124m is ambiguous. \u001B[39m\u001B[38;5;124m\"\u001B[39m\n\u001B[1;32m   1529\u001B[0m         \u001B[38;5;124m\"\u001B[39m\u001B[38;5;124mUse a.empty, a.bool(), a.item(), a.any() or a.all().\u001B[39m\u001B[38;5;124m\"\u001B[39m\n\u001B[1;32m   1530\u001B[0m     )\n",
      "\u001B[0;31mValueError\u001B[0m: The truth value of a Series is ambiguous. Use a.empty, a.bool(), a.item(), a.any() or a.all()."
     ]
    }
   ],
   "source": [
    "soup = BeautifulSoup(db['Body'], 'html.parser')\n",
    "soup.p.string"
   ],
   "metadata": {
    "collapsed": false,
    "pycharm": {
     "name": "#%%\n"
    }
   }
  },
  {
   "cell_type": "code",
   "execution_count": null,
   "outputs": [],
   "source": [
    "for line in db['Body']:\n",
    "    #TODO: VREER UN BEAUTIFUL SOUP objet\n",
    "#TODO: recuperer le texte de la balise p\n",
    "#TODO: remettre dans la ligne de la colonne 'BODY'\n",
    "soup = BeautifulSoup(db['Body'], 'html.parser')\n",
    "soup.p.string"
   ],
   "metadata": {
    "collapsed": false,
    "pycharm": {
     "name": "#%%\n"
    }
   }
  }
 ],
 "metadata": {
  "kernelspec": {
   "display_name": "Python 3",
   "language": "python",
   "name": "python3"
  },
  "language_info": {
   "codemirror_mode": {
    "name": "ipython",
    "version": 2
   },
   "file_extension": ".py",
   "mimetype": "text/x-python",
   "name": "python",
   "nbconvert_exporter": "python",
   "pygments_lexer": "ipython2",
   "version": "2.7.6"
  }
 },
 "nbformat": 4,
 "nbformat_minor": 0
}